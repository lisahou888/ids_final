{
 "cells": [
  {
   "cell_type": "markdown",
   "metadata": {
    "colab_type": "text",
    "id": "rAqReCYi7pQv"
   },
   "source": [
    "# Part One\n"
   ]
  },
  {
   "cell_type": "markdown",
   "metadata": {
    "colab_type": "text",
    "id": "BXddvc0U8LJ7"
   },
   "source": [
    "### Introduction\n",
    "Suicide is a global phenomenon, and it occurs throughout the lifespan. According to the World Health Organization, close to 800,000 people die due to suicide every year. In fact, suicide is the 18th leading cause of death in 2016.<br>\n",
    "In order to push policy makers to provide support for effective and evidence-based interventions implemented at population, it is extremely important to identify possible indicators for suicide attemps. <br>"
   ]
  },
  {
   "cell_type": "markdown",
   "metadata": {
    "colab_type": "text",
    "id": "6EFf32BE8IWm"
   },
   "source": [
    "### Goal\n",
    "In the light of these facts, the goal of this project is to identify signals correlated to increased global suicide rates by analyzing two datasets: global suicide rates dataset and global GDP growth dataset. We will analyze the dataset with consideration of differences in time, geographical region, and social-economic status of the population.<br>\n",
    "This project use an interactive approach to provide visualization for the dataset."
   ]
  },
  {
   "cell_type": "markdown",
   "metadata": {
    "colab_type": "text",
    "id": "MQc2J-By8Apg"
   },
   "source": [
    "### Data Source Description\n",
    "We used two datasources in this project. Here is an overview of each of the dataset: <br>\n",
    "<b>1. Suicide Rates Overview, 1985 to 2016 Dataset</b><br>\n",
    "<u>Source:</u><br>\n",
    "The suicide rates dataset contains global suicide rate data organized by country and year sourced from the World Health Organization. This dataset also contains social-economic status of the country population. It is compiled from a <a href=\"https://www.kaggle.com/russellyates88/suicide-rates-overview-1985-to-2016\">Kaggle</a> dataset pulled from four other datasets from: <br><ul>\n",
    "<li>United Nations Development Program (2018). Human development index (HDI). Retrieved from <a href=\"http://hdr.undp.org/en/indicators/137506\">website</a></li>\n",
    "<li>World Bank. (2018). World development indicators: GDP (current US$) by country:1985 to 2016. Retrieved from <a href=\"http://databank.worldbank.org/data/source/world-development-indicators#\">website</a></li>\n",
    "<li>[Szamil]. (2017). Suicide in the Twenty-First Century [dataset]. Retrieved from <a href=\"https://www.kaggle.com/szamil/suicide-in-the-twenty-first-century/notebook\">website</a></li>\n",
    "<li>World Health Organization. (2018). Suicide prevention. Retrieved from <a href=\"http://www.who.int/mental_health/suicide-prevention/en/\">website</a></li>\n",
    "</ul>\n",
    "<br>\n",
    "\n",
    "\n",
    "<b>2. National GDP Growth, 1985 to 2016 Dataset</b><br>\n",
    "<u>Source:</u><br>\n",
    "We are interested in whether national economic status is an indicator of suicide attemps. So we combined the previous dataset with the national GDP dataset, which contains national GDP growth over 1985 to 2016. It is sourced from this <a href=\"https://data.worldbank.org/indicator/ny.gdp.mktp.kd.zg\">World Bank</a> dataset.<br>\n"
   ]
  },
  {
   "cell_type": "markdown",
   "metadata": {
    "colab_type": "text",
    "id": "NbMWTgM78Qaz"
   },
   "source": [
    "### Research Question\n",
    "1. How does suicide rate (per 100k) vary by continent?\n",
    "2. by gender?\n",
    "3. by age?\n",
    "4. by country?\n",
    "5. How suicide rate changes over years within country?\n",
    "6. As a country gets richer, does it’s suicide rate decrease?\n",
    "To explore these questions, we perform the exploratory data analysis and proceeds to clean data below."
   ]
  },
  {
   "cell_type": "markdown",
   "metadata": {
    "colab_type": "text",
    "id": "kP-ORTK26Ukn"
   },
   "source": [
    "### Data Cleaning Description\n",
    "The data cleaning is composed of two steps--merging two datasets and dropping data that are not meaningful. \n",
    "#### Merging two datasets\n",
    "In National GDP Growth dataset, we are only interested in the GDP growth of \n",
    "different countries from 1985 to 2016, so we dropped all other columns other than 'Country Name' and years. This dataset lists years as columns and country as rows. Each entry is the country's GDP growth of the year. We reorganize the structure to three columns: 'country', 'year' and 'gdp_growth' and then merge with the suicide dataset. \n",
    "\n",
    "#### Dropping unmeaningful data\n",
    "\n",
    "*   **Amount of Data Available By Year:** There isn't much data available in 2016. Specifically, we only have data from ['Armenia', 'Austria', 'Croatia', 'Cyprus', 'Czech Republic',\n",
    "       'Grenada', 'Hungary', 'Iceland', 'Lithuania', 'Mauritius',\n",
    "       'Mongolia', 'Netherlands', 'Qatar', 'Romania', 'Sweden',\n",
    "       'Thailand'], which is not a good amount for meaningful visualization. This is shown in visualization below. \n",
    "*   **Number of non-NaN in HDI data:** The proportion of non-NaN entries in the column of 'HDI for year' is only around 0.3. After eyeballing the column, we found that the places that any values showed in the column are quite inconsistent, so we decide to drop the column.\n"
   ]
  },
  {
   "cell_type": "code",
   "execution_count": 0,
   "metadata": {
    "colab": {
     "base_uri": "https://localhost:8080/",
     "height": 34
    },
    "colab_type": "code",
    "id": "jAGqoGYtsMZZ",
    "outputId": "7c7adda8-04e4-42e3-9dce-ba1461ec33d8"
   },
   "outputs": [
    {
     "data": {
      "text/plain": [
       "('master_1985_2015.csv', <http.client.HTTPMessage at 0x7fc743c83a90>)"
      ]
     },
     "execution_count": 1,
     "metadata": {
      "tags": []
     },
     "output_type": "execute_result"
    }
   ],
   "source": [
    "import urllib.request\n",
    "urllib.request.urlretrieve('https://onedrive.live.com/download?cid=1ABF8B3A88607926&resid=1ABF8B3A88607926%2127196&authkey=ADxaLtGwGAuSaGw', 'master.csv')\n",
    "urllib.request.urlretrieve('https://onedrive.live.com/download?cid=1ABF8B3A88607926&resid=1ABF8B3A88607926%2127197&authkey=AJikGQZfKzpnejA', 'gdp_growth.csv')\n",
    "urllib.request.urlretrieve('https://onedrive.live.com/download?cid=1ABF8B3A88607926&resid=1ABF8B3A88607926%2127199&authkey=AJWPxRa-KErzCJM', 'master_1985_2015.csv')"
   ]
  },
  {
   "cell_type": "code",
   "execution_count": 1,
   "metadata": {
    "colab": {},
    "colab_type": "code",
    "id": "m16PV1UVVDVJ"
   },
   "outputs": [],
   "source": [
    "import pandas as pd\n",
    "import matplotlib.pylab as plt"
   ]
  },
  {
   "cell_type": "code",
   "execution_count": 0,
   "metadata": {
    "colab": {
     "base_uri": "https://localhost:8080/",
     "height": 68
    },
    "colab_type": "code",
    "id": "-QbPvm15NCHi",
    "outputId": "9456eabd-8569-4b26-b97b-7451d09880a1"
   },
   "outputs": [
    {
     "name": "stdout",
     "output_type": "stream",
     "text": [
      "['Armenia' 'Austria' 'Croatia' 'Cyprus' 'Czech Republic' 'Grenada'\n",
      " 'Hungary' 'Iceland' 'Lithuania' 'Mauritius' 'Mongolia' 'Netherlands'\n",
      " 'Qatar' 'Romania' 'Sweden' 'Thailand']\n"
     ]
    }
   ],
   "source": [
    "df=pd.read_csv('master.csv')\n",
    "df1=pd.read_csv('gdp_growth.csv')\n",
    "for i in list(range(1960, 1985)) + list(range(2017, 2020)):\n",
    "    df1=df1.drop(str(i),axis=1)\n",
    "df1=df1.drop(columns='Indicator Code')\n",
    "df1=df1.drop(columns='Indicator Name')\n",
    "df1=df1.drop(columns='Country Code')\n",
    "df1=df1.drop(columns='Unnamed: 64')\n",
    "df_cleaned=pd.DataFrame(columns=['country', 'year', 'gdp_growth'])\n",
    "for year in range(1985, 2017):\n",
    "    for ind in df1.index: \n",
    "        df_cleaned=df_cleaned.append({'country':df1['Country Name'][ind], 'year':year, 'gdp_growth':df1[str(year)][ind]}, ignore_index=True)\n",
    "df_cleaned=df_cleaned.sort_values(by=['country', 'year'])\n",
    "df_new=df.merge(df_cleaned, on=['country', 'year'])\n",
    "\n",
    "# data available in 2016\n",
    "print(df_new[df_new['year']==2016]['country'].unique())"
   ]
  },
  {
   "cell_type": "markdown",
   "metadata": {
    "colab_type": "text",
    "id": "O197EbKbT8_x"
   },
   "source": [
    "**Amount of Data Available By Year**"
   ]
  },
  {
   "cell_type": "code",
   "execution_count": 0,
   "metadata": {
    "colab": {
     "base_uri": "https://localhost:8080/",
     "height": 298
    },
    "colab_type": "code",
    "id": "lemzxFlHSvTQ",
    "outputId": "03a9cb92-bca3-4f37-c5aa-b3879077e507"
   },
   "outputs": [
    {
     "data": {
      "text/plain": [
       "<BarContainer object of 32 artists>"
      ]
     },
     "execution_count": 4,
     "metadata": {
      "tags": []
     },
     "output_type": "execute_result"
    },
    {
     "data": {
      "image/png": "[encoded data removed]",
      "text/plain": [
       "<Figure size 432x288 with 1 Axes>"
      ]
     },
     "metadata": {
      "tags": []
     },
     "output_type": "display_data"
    }
   ],
   "source": [
    "import matplotlib.pylab as plt\n",
    "import matplotlib.image as mpimg\n",
    "\n",
    "num_countries_by_year={}\n",
    "for i in range(1985, 2017):\n",
    "    num_countries_by_year[i]=len(df_new[df_new['year']==i]['country'].unique())\n",
    "\n",
    "lists = sorted(num_countries_by_year.items())\n",
    "x, y = zip(*lists)\n",
    "plt.title('number of countries that have no available data by year')\n",
    "plt.bar(x, y)"
   ]
  },
  {
   "cell_type": "markdown",
   "metadata": {
    "colab_type": "text",
    "id": "vhVCJbjz8pTh"
   },
   "source": [
    "**Number of non-NaN in HDI data**"
   ]
  },
  {
   "cell_type": "code",
   "execution_count": 0,
   "metadata": {
    "colab": {
     "base_uri": "https://localhost:8080/",
     "height": 34
    },
    "colab_type": "code",
    "id": "04t1lcwF8pe4",
    "outputId": "5d60fe60-2c9a-49a3-8165-d9bc3ffb7a60"
   },
   "outputs": [
    {
     "name": "stdout",
     "output_type": "stream",
     "text": [
      "proportion of non-NaN in HDI column 0.30611299783883916\n"
     ]
    }
   ],
   "source": [
    "num_nan=df_new['HDI for year'].isna().sum()\n",
    "num_rows=df_new['HDI for year'].shape[0]\n",
    "print('proportion of non-NaN in HDI column', (num_rows-num_nan)/num_rows)"
   ]
  },
  {
   "cell_type": "markdown",
   "metadata": {
    "colab_type": "text",
    "id": "y722Xpbn9h-8"
   },
   "source": [
    "**Cleaning the Datset**"
   ]
  },
  {
   "cell_type": "code",
   "execution_count": 0,
   "metadata": {
    "colab": {},
    "colab_type": "code",
    "id": "4sqCCfC55ScF"
   },
   "outputs": [],
   "source": [
    "# df_new=df_new.drop(columns='HDI for year')\n",
    "# df_new=df_new[df_new['year']!=2016]\n",
    "df_new=pd.read_csv('master_1985_2015.csv')  # equivalent to the two lines above"
   ]
  },
  {
   "cell_type": "markdown",
   "metadata": {
    "colab_type": "text",
    "id": "4N6y9yy99mzB"
   },
   "source": [
    "### Exploratory Analysis\n",
    "#### Non Interactive Browsing of Data\n",
    "*   We visualized the years and countries that have no suicide. To be specific, we visualize in two ways, one is plotting the number of countries in each year that has no suicide, and the other is plotting the years of those countries that have no suicide for some particular years (i.e., the countries not shown in the plot always have at least 1 suicide case throughout 1985-2015). The second plot is more interesting in a sense that countries shown in this plot are \"smaller\" countries. We proved this by ploting the average population from 1985 to 2015 and listed the 10 countries with the least population. We will probably pay extra attention to how to interpret the effects of Antigua and Barbuda, Grenada, Barbados, Kiribati and Dominica from our further visualization since both of the countires have very small populations (i.e., smaller countries), so the fact that they have a lot of years of no suicide might be due to the fact that the data is not collected well. \n",
    "\n",
    "#### Our First-Attempt Interactive Data Analysis\n",
    "* We conducted a preliminary global suicide trend analysis. In specific, we created three interactive plots using plotly to visualize the number of suicides per 100k people per year grouped by age and gender. From the first plot, we learned that the suicide rate showed an incresing pattern from 1985 to 1995, and a decreasing pattern from 1995 to 2015. We would like to further explore this global trend in future work. From the second plot which is grouped by gender, we learned that male have a much higher suicide rate than female. From the third plot which is grouped by age, we learned that older people have a higher suicide rate than younger people. These plots give us an overview of the worldwide suicide trend over the 30 years, and in future work, we would like to conduct more in-depth continent-level and country-level analysis. "
   ]
  },
  {
   "cell_type": "markdown",
   "metadata": {
    "colab_type": "text",
    "id": "yX8293ApY5wF"
   },
   "source": [
    "**No Suicide: Year and Country**\n",
    "1.   No suicide country by year: here we investigate the number of countries that have no suicide by each year. The maximum number is 4, which is not too bad compared to the total number of countries 92. \n",
    "2.   No suicide year by country: now we can see which countries have no suicide and what years they don't have suicide. By eyeballing those countries, we found that they are usually smaller size (investigated in the next text cell). Besides, no countries have 0 suicide all years, so maybe the 0 suicide is just caused by smaller population. \n",
    "\n"
   ]
  },
  {
   "cell_type": "code",
   "execution_count": 0,
   "metadata": {
    "colab": {
     "base_uri": "https://localhost:8080/",
     "height": 713
    },
    "colab_type": "code",
    "id": "5q9N989UY-tV",
    "outputId": "3a960740-aa10-4121-a23e-2415f6a9a292"
   },
   "outputs": [
    {
     "name": "stdout",
     "output_type": "stream",
     "text": [
      "no_suicide_country_by_year {2005: ['Albania', 'Antigua and Barbuda'], 2006: ['Albania', 'Antigua and Barbuda', 'Jamaica', 'Montenegro'], 2009: ['Albania', 'Antigua and Barbuda', 'Grenada'], 1985: ['Antigua and Barbuda', 'Dominica'], 1986: ['Antigua and Barbuda'], 1987: ['Antigua and Barbuda'], 1988: ['Antigua and Barbuda'], 1989: ['Antigua and Barbuda', 'Jamaica'], 1991: ['Antigua and Barbuda', 'Grenada'], 1992: ['Antigua and Barbuda', 'Grenada'], 1994: ['Antigua and Barbuda'], 1995: ['Antigua and Barbuda', 'Qatar'], 1998: ['Antigua and Barbuda', 'Bahrain'], 1999: ['Antigua and Barbuda', 'Kiribati'], 2002: ['Antigua and Barbuda', 'Barbados', 'Grenada', 'Montenegro'], 2008: ['Antigua and Barbuda', 'Grenada', 'Maldives'], 2012: ['Antigua and Barbuda', 'Barbados'], 2013: ['Antigua and Barbuda', 'Barbados', 'Grenada'], 2014: ['Antigua and Barbuda', 'Grenada'], 1997: ['Bahrain'], 2003: ['Barbados', 'Montenegro'], 2007: ['Barbados'], 2011: ['Barbados'], 2001: ['Grenada', 'Kiribati', 'Montenegro'], 2010: ['Grenada'], 2015: ['Grenada'], 2000: ['Kiribati', 'Maldives', 'Montenegro'], 2004: ['Montenegro']}\n",
      "{'Albania': [2005, 2006, 2009], 'Antigua and Barbuda': [1985, 1986, 1987, 1988, 1989, 1991, 1992, 1994, 1995, 1998, 1999, 2002, 2005, 2006, 2008, 2009, 2012, 2013, 2014], 'Bahrain': [1997, 1998], 'Barbados': [2002, 2003, 2007, 2011, 2012, 2013], 'Dominica': [1985], 'Grenada': [1991, 1992, 2001, 2002, 2008, 2009, 2010, 2013, 2014, 2015], 'Jamaica': [1989, 2006], 'Kiribati': [1999, 2000, 2001], 'Maldives': [2000, 2008], 'Montenegro': [2000, 2001, 2002, 2003, 2004, 2006], 'Qatar': [1995]}\n",
      "print(no_suicide_year_by_country) None\n"
     ]
    },
    {
     "data": {
      "image/png": "[encoded data removed]",
      "text/plain": [
       "<Figure size 432x288 with 1 Axes>"
      ]
     },
     "metadata": {
      "tags": []
     },
     "output_type": "display_data"
    },
    {
     "data": {
      "image/png": "[encoded data removed]",
      "text/plain": [
       "<Figure size 432x288 with 1 Axes>"
      ]
     },
     "metadata": {
      "tags": []
     },
     "output_type": "display_data"
    }
   ],
   "source": [
    "countries=df_new['country'].unique()\n",
    "no_suicide_country_by_year={}\n",
    "no_suicide_year_by_country={}\n",
    "for country in countries:\n",
    "    tmp_df=df_new[df_new['country']==country]\n",
    "    years=tmp_df['year'].unique()\n",
    "    suicide=0\n",
    "    for year in years:\n",
    "        if tmp_df[tmp_df['year']==year]['suicides_no'].sum()==0:\n",
    "            if year in no_suicide_country_by_year:\n",
    "                no_suicide_country_by_year[year]+=[country]\n",
    "            else:\n",
    "                no_suicide_country_by_year[year]=[country]\n",
    "            if country in no_suicide_year_by_country:\n",
    "                no_suicide_year_by_country[country]+=[year]\n",
    "            else:\n",
    "                no_suicide_year_by_country[country]=[year]\n",
    "print('no_suicide_country_by_year', no_suicide_country_by_year)\n",
    "print('print(no_suicide_year_by_country)', print(no_suicide_year_by_country))\n",
    "\n",
    "x=[]\n",
    "y=[]\n",
    "for key in no_suicide_country_by_year:\n",
    "    x.append(key)\n",
    "    y.append(len(no_suicide_country_by_year[key]))\n",
    "plt.title('number of countries that have no suicide by year')\n",
    "plt.bar(x, y)\n",
    "plt.show()\n",
    "\n",
    "x=[]\n",
    "y=[]\n",
    "for country in no_suicide_year_by_country:\n",
    "    for year in no_suicide_year_by_country[country]:\n",
    "        x.append(country)\n",
    "        y.append(year)\n",
    "plt.title('years of no suicide by country')\n",
    "plt.xticks(rotation=90)\n",
    "plt.scatter(x, y)\n",
    "plt.show()"
   ]
  },
  {
   "cell_type": "markdown",
   "metadata": {
    "colab_type": "text",
    "id": "wLLjMXivDkCo"
   },
   "source": [
    "**Population by Country**\n",
    "\n",
    "This investigation continues from the doubt above. We plotted the average population per year for each country. This is a typical right-skewed distribution. We printed the countries with 10 least population and this confirmed our hypothesis that the countries that has 0 suicide are mostly in these countries that have the least population. "
   ]
  },
  {
   "cell_type": "code",
   "execution_count": 0,
   "metadata": {
    "colab": {
     "base_uri": "https://localhost:8080/",
     "height": 71
    },
    "colab_type": "code",
    "id": "34zO8RW9-Dnd",
    "outputId": "38d593de-06e9-43c5-d454-63a7ff86bdb6"
   },
   "outputs": [
    {
     "name": "stdout",
     "output_type": "stream",
     "text": [
      "10 countries with the least population: ('Iceland', 'Barbados', 'Belize', 'Grenada', 'Aruba', 'Seychelles', 'Antigua and Barbuda', 'Kiribati', 'Dominica', 'San Marino')\n"
     ]
    },
    {
     "data": {
      "text/plain": [
       "<BarContainer object of 92 artists>"
      ]
     },
     "execution_count": 8,
     "metadata": {
      "tags": []
     },
     "output_type": "execute_result"
    }
   ],
   "source": [
    "avg_population={}\n",
    "countries=df_new['country'].unique()\n",
    "for country in countries:\n",
    "    tmp_df=df_new[df_new['country']==country]\n",
    "    years=tmp_df['year'].unique()\n",
    "    pop=0\n",
    "    for year in years:\n",
    "        pop+=tmp_df[tmp_df['year']==year]['population'].sum()\n",
    "    avg_population[country]=pop/len(years)\n",
    "\n",
    "lists = sorted(avg_population.items())\n",
    "\n",
    "x, y = zip(*lists)\n",
    "y, x = zip(*sorted(zip(y, x), reverse=True))\n",
    "print('10 countries with the least population:', x[-10:])\n",
    "\n",
    "fig = plt.figure(figsize=(20, 2))\n",
    "ax = fig.add_subplot(111)\n",
    "ax.set_xticklabels(x, rotation=90)\n",
    "ax.bar(x, y)"
   ]
  }
 ],
 "metadata": {
  "colab": {
   "collapsed_sections": [],
   "name": "final_project.ipynb",
   "provenance": [],
   "toc_visible": true
  },
  "kernelspec": {
   "display_name": "Python 3",
   "language": "python",
   "name": "python3"
  },
  "language_info": {
   "codemirror_mode": {
    "name": "ipython",
    "version": 3
   },
   "file_extension": ".py",
   "mimetype": "text/x-python",
   "name": "python",
   "nbconvert_exporter": "python",
   "pygments_lexer": "ipython3",
   "version": "3.7.4"
  }
 },
 "nbformat": 4,
 "nbformat_minor": 1
}
